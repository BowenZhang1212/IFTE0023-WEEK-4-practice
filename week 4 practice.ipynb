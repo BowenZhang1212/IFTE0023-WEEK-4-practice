{
 "cells": [
  {
   "cell_type": "code",
   "execution_count": 2,
   "id": "e9e7e961",
   "metadata": {},
   "outputs": [],
   "source": [
    "#loading library"
   ]
  },
  {
   "cell_type": "code",
   "execution_count": 3,
   "id": "5d193f85",
   "metadata": {},
   "outputs": [],
   "source": [
    "import numpy as np\n",
    "from datetime import datetime\n",
    "import matplotlib.pyplot as plt\n",
    "from meteostat import Point, Daily"
   ]
  },
  {
   "cell_type": "code",
   "execution_count": 4,
   "id": "4ebf9dd5",
   "metadata": {},
   "outputs": [],
   "source": [
    "#data collection"
   ]
  },
  {
   "cell_type": "code",
   "execution_count": 5,
   "id": "dc409767",
   "metadata": {},
   "outputs": [],
   "source": [
    "start = datetime(2023, 7, 1)\n",
    "end = datetime(2023, 8, 31)\n",
    "location = Point(48.8566, 2.3522, 35)"
   ]
  },
  {
   "cell_type": "code",
   "execution_count": 6,
   "id": "ff0f04d6",
   "metadata": {},
   "outputs": [],
   "source": [
    "#fetching data"
   ]
  },
  {
   "cell_type": "code",
   "execution_count": 7,
   "id": "d288e153",
   "metadata": {},
   "outputs": [],
   "source": [
    "data = Daily(location, start, end)\n",
    "data = data.fetch()"
   ]
  },
  {
   "cell_type": "code",
   "execution_count": 8,
   "id": "dd4c91c3",
   "metadata": {},
   "outputs": [],
   "source": [
    "#calculating cdd days"
   ]
  },
  {
   "cell_type": "code",
   "execution_count": 9,
   "id": "95f27800",
   "metadata": {},
   "outputs": [],
   "source": [
    "T_base = 18\n",
    "cdds = [max(temp - T_base, 0) for temp in data.tavg]"
   ]
  },
  {
   "cell_type": "code",
   "execution_count": 11,
   "id": "16c76a82",
   "metadata": {},
   "outputs": [
    {
     "name": "stdout",
     "output_type": "stream",
     "text": [
      "[1.8000000000000007, 1.3000000000000007, 2.3000000000000007, 1.3000000000000007, 0, 2.6000000000000014, 6.5, 9.399999999999999, 6.600000000000001, 6.100000000000001, 7.600000000000001, 3.5, 2.5, 6.300000000000001, 5.0, 2.6000000000000014, 2.1999999999999993, 5.0, 3.3999999999999986, 3.0, 2.1999999999999993, 2.3999999999999986, 2.8999999999999986, 2.1000000000000014, 0, 0.3999999999999986, 2.0, 2.6000000000000014, 2.8000000000000007, 1.6999999999999993, 1.1999999999999993, 1.3000000000000007, 2.1999999999999993, 0, 0, 0, 0, 0, 1.8000000000000007, 2.1999999999999993, 4.399999999999999, 4.199999999999999, 3.6000000000000014, 2.6000000000000014, 3.6000000000000014, 3.5, 4.5, 5.800000000000001, 7.300000000000001, 6.600000000000001, 6.800000000000001, 5.699999999999999, 7.100000000000001, 7.199999999999999, 6.699999999999999, 3.1000000000000014, 0.3000000000000007, 0, 0, 0, 0, 0]\n"
     ]
    }
   ],
   "source": [
    "print (cdds)"
   ]
  },
  {
   "cell_type": "code",
   "execution_count": 12,
   "id": "94908890",
   "metadata": {},
   "outputs": [],
   "source": [
    "strike = 100\n",
    "total_cdd = sum(cdds)\n",
    "payoff = max(total_cdd - strike, 0)"
   ]
  },
  {
   "cell_type": "code",
   "execution_count": 13,
   "id": "7a63d2b6",
   "metadata": {},
   "outputs": [
    {
     "name": "stdout",
     "output_type": "stream",
     "text": [
      "Total CDD: 189.79999999999998\n",
      "Option Payoff: 89.79999999999998\n"
     ]
    }
   ],
   "source": [
    "print(\"Total CDD:\", total_cdd)\n",
    "print(\"Option Payoff:\", payoff)"
   ]
  },
  {
   "cell_type": "code",
   "execution_count": null,
   "id": "5327b17a",
   "metadata": {},
   "outputs": [],
   "source": []
  }
 ],
 "metadata": {
  "kernelspec": {
   "display_name": "Python 3 (ipykernel)",
   "language": "python",
   "name": "python3"
  },
  "language_info": {
   "codemirror_mode": {
    "name": "ipython",
    "version": 3
   },
   "file_extension": ".py",
   "mimetype": "text/x-python",
   "name": "python",
   "nbconvert_exporter": "python",
   "pygments_lexer": "ipython3",
   "version": "3.11.5"
  }
 },
 "nbformat": 4,
 "nbformat_minor": 5
}
